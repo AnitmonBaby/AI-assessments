{
 "cells": [
  {
   "cell_type": "code",
   "execution_count": 21,
   "metadata": {},
   "outputs": [],
   "source": [
    "#import spacy and load english library\n",
    "\n",
    "import spacy\n",
    "nlp = spacy.load(\"en_core_web_sm\")"
   ]
  },
  {
   "cell_type": "code",
   "execution_count": 22,
   "metadata": {},
   "outputs": [],
   "source": [
    "my_text_file = open(\"/Users/anitbaby/Documents/sample.txt\")"
   ]
  },
  {
   "cell_type": "code",
   "execution_count": 23,
   "metadata": {},
   "outputs": [],
   "source": [
    "#my_text_file.read()"
   ]
  },
  {
   "cell_type": "code",
   "execution_count": 24,
   "metadata": {},
   "outputs": [],
   "source": [
    "text_document = my_text_file.read()"
   ]
  },
  {
   "cell_type": "code",
   "execution_count": 25,
   "metadata": {},
   "outputs": [
    {
     "name": "stdout",
     "output_type": "stream",
     "text": [
      "Ireland's economy is now booming and it's growth is now the highest in Europe with 7.8%, and the value of the Irish economy is now close to â‚¬300 billion.\n"
     ]
    }
   ],
   "source": [
    "print(text_document)"
   ]
  },
  {
   "cell_type": "code",
   "execution_count": 26,
   "metadata": {},
   "outputs": [],
   "source": [
    "doc_object = nlp(text_document)"
   ]
  },
  {
   "cell_type": "code",
   "execution_count": 32,
   "metadata": {},
   "outputs": [
    {
     "name": "stdout",
     "output_type": "stream",
     "text": [
      "Ireland PROPN poss False Xxxxx\n",
      "'s PART case False 'x\n",
      "economy NOUN nsubj False xxxx\n",
      "is VERB aux True xx\n",
      "now ADV advmod True xxx\n",
      "booming ADJ ROOT False xxxx\n",
      "and CCONJ cc True xxx\n",
      "it PRON poss True xx\n",
      "'s VERB case False 'x\n",
      "growth NOUN nsubj False xxxx\n",
      "is VERB conj True xx\n",
      "now ADV advmod True xxx\n",
      "the DET det True xxx\n",
      "highest ADJ attr False xxxx\n",
      "in ADP prep True xx\n",
      "Europe PROPN pobj False Xxxxx\n",
      "with ADP prep True xxxx\n",
      "7.8 NUM nummod False d.d\n",
      "% NOUN pobj False %\n",
      ", PUNCT punct False ,\n",
      "and CCONJ cc True xxx\n",
      "the DET det True xxx\n",
      "value NOUN nsubj False xxxx\n",
      "of ADP prep True xx\n",
      "the DET det True xxx\n",
      "Irish ADJ amod False Xxxxx\n",
      "economy NOUN pobj False xxxx\n",
      "is VERB conj True xx\n",
      "now ADV advmod True xxx\n",
      "close ADJ acomp False xxxx\n",
      "to ADP prep True xx\n",
      "â‚¬300 ADJ compound False x‚¬ddd\n",
      "billion NUM pobj False xxxx\n",
      ". PUNCT punct False .\n"
     ]
    }
   ],
   "source": [
    "#print each token individually\n",
    "\n",
    "for token in doc_object:\n",
    "    #show token\n",
    "    print(token.text, token.pos_, token.dep_, token.is_stop, token.shape_)"
   ]
  },
  {
   "cell_type": "code",
   "execution_count": 28,
   "metadata": {},
   "outputs": [
    {
     "data": {
      "text/plain": [
       "'adjective'"
      ]
     },
     "execution_count": 28,
     "metadata": {},
     "output_type": "execute_result"
    }
   ],
   "source": [
    "spacy.explain(\"ADJ\")"
   ]
  },
  {
   "cell_type": "code",
   "execution_count": 29,
   "metadata": {},
   "outputs": [
    {
     "data": {
      "text/plain": [
       "'adposition'"
      ]
     },
     "execution_count": 29,
     "metadata": {},
     "output_type": "execute_result"
    }
   ],
   "source": [
    "spacy.explain(\"ADP\")"
   ]
  },
  {
   "cell_type": "code",
   "execution_count": 33,
   "metadata": {},
   "outputs": [],
   "source": [
    "doc_object = nlp(u\"All the world\\'s a stage. And tall the women and men merely players. They have their exists and their entrances; And one man in his time plays many parts. - Shakespeare\")"
   ]
  },
  {
   "cell_type": "code",
   "execution_count": 36,
   "metadata": {},
   "outputs": [
    {
     "name": "stdout",
     "output_type": "stream",
     "text": [
      "And tall the women and men merely players.\n"
     ]
    }
   ],
   "source": [
    "#span\n",
    "\n",
    "sentence = doc_object[7:16]\n",
    "print(sentence)"
   ]
  },
  {
   "cell_type": "code",
   "execution_count": 37,
   "metadata": {
    "scrolled": true
   },
   "outputs": [
    {
     "data": {
      "text/plain": [
       "spacy.tokens.span.Span"
      ]
     },
     "execution_count": 37,
     "metadata": {},
     "output_type": "execute_result"
    }
   ],
   "source": [
    "type(sentence)"
   ]
  },
  {
   "cell_type": "code",
   "execution_count": 38,
   "metadata": {},
   "outputs": [
    {
     "name": "stdout",
     "output_type": "stream",
     "text": [
      "All the world's a stage.\n",
      "And tall the women and men merely players.\n",
      "They have their exists and their entrances; And one man in his time plays many parts.\n",
      "- Shakespeare\n"
     ]
    }
   ],
   "source": [
    "for sentence in doc_object.sents:\n",
    "    print(sentence)"
   ]
  },
  {
   "cell_type": "code",
   "execution_count": 39,
   "metadata": {},
   "outputs": [
    {
     "data": {
      "text/plain": [
       "And"
      ]
     },
     "execution_count": 39,
     "metadata": {},
     "output_type": "execute_result"
    }
   ],
   "source": [
    "doc_object[7]"
   ]
  },
  {
   "cell_type": "code",
   "execution_count": 40,
   "metadata": {},
   "outputs": [
    {
     "data": {
      "text/plain": [
       "True"
      ]
     },
     "execution_count": 40,
     "metadata": {},
     "output_type": "execute_result"
    }
   ],
   "source": [
    "doc_object[7].is_sent_start"
   ]
  },
  {
   "cell_type": "code",
   "execution_count": 45,
   "metadata": {},
   "outputs": [],
   "source": [
    "doc_object[8].is_sent_start"
   ]
  },
  {
   "cell_type": "code",
   "execution_count": 46,
   "metadata": {},
   "outputs": [
    {
     "name": "stdout",
     "output_type": "stream",
     "text": [
      "None  All\n",
      "None  the\n",
      "None  world\n",
      "None  's\n",
      "None  a\n",
      "None  stage\n",
      "None  .\n",
      "True  And\n",
      "None  tall\n",
      "None  the\n",
      "None  women\n",
      "None  and\n",
      "None  men\n",
      "None  merely\n",
      "None  players\n",
      "None  .\n",
      "True  They\n",
      "None  have\n",
      "None  their\n",
      "None  exists\n",
      "None  and\n",
      "None  their\n",
      "None  entrances\n",
      "None  ;\n",
      "None  And\n",
      "None  one\n",
      "None  man\n",
      "None  in\n",
      "None  his\n",
      "None  time\n",
      "None  plays\n",
      "None  many\n",
      "None  parts\n",
      "None  .\n",
      "True  -\n",
      "None  Shakespeare\n"
     ]
    }
   ],
   "source": [
    "for token in doc_object:\n",
    "    print(token.is_sent_start, \"\",token.text)"
   ]
  },
  {
   "cell_type": "code",
   "execution_count": 49,
   "metadata": {},
   "outputs": [
    {
     "data": {
      "text/plain": [
       "All the world's a stage. And tall the women and men merely players. They have their exists and their entrances; And one man in his time plays many parts. -"
      ]
     },
     "execution_count": 49,
     "metadata": {},
     "output_type": "execute_result"
    }
   ],
   "source": [
    "doc_object[:-1]"
   ]
  },
  {
   "cell_type": "code",
   "execution_count": 50,
   "metadata": {},
   "outputs": [
    {
     "name": "stdout",
     "output_type": "stream",
     "text": [
      "All\n",
      "the\n",
      "world\n",
      "'s\n",
      "a\n",
      "stage\n",
      ".\n",
      "And\n",
      "tall\n",
      "the\n",
      "women\n",
      "and\n",
      "men\n",
      "merely\n",
      "players\n",
      ".\n",
      "They\n",
      "have\n",
      "their\n",
      "exists\n",
      "and\n",
      "their\n",
      "entrances\n",
      ";\n",
      "And\n",
      "one\n",
      "man\n",
      "in\n",
      "his\n",
      "time\n",
      "plays\n",
      "many\n",
      "parts\n",
      ".\n",
      "-\n",
      "Shakespeare\n"
     ]
    }
   ],
   "source": [
    "for token in doc_object:\n",
    "    print(token)"
   ]
  },
  {
   "cell_type": "code",
   "execution_count": 55,
   "metadata": {},
   "outputs": [],
   "source": [
    "#function to add a new segmentation rule\n",
    "\n",
    "def create_custom_sentence_boundary(document_obj):\n",
    "    #check each word up until second last word\n",
    "    for token in document_obj[:-1]:\n",
    "        #if the token =';' then set the nest token as start token\n",
    "        if token.text== \";\":\n",
    "            document_obj[token.i+1].is_sent_start = True\n",
    "    return(document_obj)\n",
    "    \n",
    "    "
   ]
  },
  {
   "cell_type": "code",
   "execution_count": null,
   "metadata": {},
   "outputs": [],
   "source": []
  }
 ],
 "metadata": {
  "kernelspec": {
   "display_name": "Python 3",
   "language": "python",
   "name": "python3"
  },
  "language_info": {
   "codemirror_mode": {
    "name": "ipython",
    "version": 3
   },
   "file_extension": ".py",
   "mimetype": "text/x-python",
   "name": "python",
   "nbconvert_exporter": "python",
   "pygments_lexer": "ipython3",
   "version": "3.7.6"
  }
 },
 "nbformat": 4,
 "nbformat_minor": 4
}
